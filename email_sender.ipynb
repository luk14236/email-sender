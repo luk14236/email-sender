{
  "nbformat": 4,
  "nbformat_minor": 0,
  "metadata": {
    "colab": {
      "provenance": [],
      "authorship_tag": "ABX9TyMO3WpPDwsNvj2woGuPKWPn"
    },
    "kernelspec": {
      "name": "python3",
      "display_name": "Python 3"
    },
    "language_info": {
      "name": "python"
    }
  },
  "cells": [
    {
      "cell_type": "code",
      "source": [
        "#!/usr/bin/env python\n",
        "# -*- coding: utf-8 -*-\n",
        "from email.header    import Header\n",
        "from email.mime.text import MIMEText\n",
        "from getpass         import getpass\n",
        "from smtplib         import SMTP_SSL\n",
        "from datetime        import datetime\n",
        "\n",
        "message = \"[message]\"\n",
        "\n",
        "# create message\n",
        "msg = MIMEText(message, 'plain', 'utf-8')\n",
        "msg['Subject'] = Header('[subject]', 'utf-8')\n",
        "msg['From'] = '[email-from]'\n",
        "msg['To'] = '[email-to-1], [email-to-2]'\n",
        "\n",
        "# send it via gmail\n",
        "s = SMTP_SSL('smtp.gmail.com', 465, timeout=10)\n",
        "try:\n",
        "    s.login('[email-sender-real]]', '[email-password-real]')\n",
        "    s.sendmail(msg['From'], msg['To'], msg.as_string())\n",
        "    print('Sended!', datetime.now())\n",
        "finally:\n",
        "    s.quit()"
      ],
      "metadata": {
        "colab": {
          "base_uri": "https://localhost:8080/"
        },
        "id": "zbnhSMEPUVbF",
        "outputId": "80184ed4-2eb7-4fbc-b90d-62cf44a67195"
      },
      "execution_count": null,
      "outputs": [
        {
          "output_type": "stream",
          "name": "stdout",
          "text": [
            "Sended! 2022-06-28 13:10:48.993879\n"
          ]
        }
      ]
    },
    {
      "cell_type": "code",
      "source": [],
      "metadata": {
        "id": "u73uvpyFZgw4"
      },
      "execution_count": null,
      "outputs": []
    }
  ]
}